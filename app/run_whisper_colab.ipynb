{
 "cells": [
  {
   "cell_type": "markdown",
   "metadata": {
    "id": "PcoXHrM6jGof"
   },
   "source": [
    "# Run WhisperAI using Google Colab's GPU\n",
    "\n",
    "Enable GPU - select Runtime -> Change runtime type in the Menu bar. Under Hardware Accelerator, select GPU."
   ]
  },
  {
   "cell_type": "markdown",
   "metadata": {
    "id": "LFOyJ9GkkoW-"
   },
   "source": [
    "## Pip install dependencies"
   ]
  },
  {
   "cell_type": "code",
   "execution_count": 1,
   "metadata": {
    "colab": {
     "base_uri": "https://localhost:8080/"
    },
    "executionInfo": {
     "elapsed": 34422,
     "status": "ok",
     "timestamp": 1726402302690,
     "user": {
      "displayName": "Dofcop",
      "userId": "15109192304312586340"
     },
     "user_tz": -420
    },
    "id": "STstw_cvPCjL",
    "outputId": "ad502a21-3261-4c3f-f888-26ee13098242"
   },
   "outputs": [
    {
     "output_type": "stream",
     "name": "stdout",
     "text": [
      "Collecting pyngrok\n",
      "  Downloading pyngrok-7.2.0-py3-none-any.whl.metadata (7.4 kB)\n",
      "Requirement already satisfied: PyYAML>=5.1 in /usr/local/lib/python3.10/dist-packages (from pyngrok) (6.0.2)\n",
      "Downloading pyngrok-7.2.0-py3-none-any.whl (22 kB)\n",
      "Installing collected packages: pyngrok\n",
      "Successfully installed pyngrok-7.2.0\n",
      "  Installing build dependencies ... \u001B[?25l\u001B[?25hdone\n",
      "  Getting requirements to build wheel ... \u001B[?25l\u001B[?25hdone\n",
      "  Preparing metadata (pyproject.toml) ... \u001B[?25l\u001B[?25hdone\n",
      "\u001B[2K   \u001B[90m━━━━━━━━━━━━━━━━━━━━━━━━━━━━━━━━━━━━━━━━\u001B[0m \u001B[32m209.4/209.4 MB\u001B[0m \u001B[31m4.8 MB/s\u001B[0m eta \u001B[36m0:00:00\u001B[0m\n",
      "\u001B[2K   \u001B[90m━━━━━━━━━━━━━━━━━━━━━━━━━━━━━━━━━━━━━━━━\u001B[0m \u001B[32m1.1/1.1 MB\u001B[0m \u001B[31m52.5 MB/s\u001B[0m eta \u001B[36m0:00:00\u001B[0m\n",
      "\u001B[?25h  Building wheel for openai-whisper (pyproject.toml) ... \u001B[?25l\u001B[?25hdone\n"
     ]
    }
   ],
   "source": [
    "!pip install pyngrok\n",
    "!pip install git+https://github.com/openai/whisper.git -q"
   ]
  },
  {
   "cell_type": "markdown",
   "metadata": {
    "id": "FVRHvVNmktDd"
   },
   "source": [
    "## Imports"
   ]
  },
  {
   "cell_type": "code",
   "execution_count": 2,
   "metadata": {
    "id": "r67_m4DoPN-X",
    "executionInfo": {
     "status": "ok",
     "timestamp": 1726402309761,
     "user_tz": -420,
     "elapsed": 7076,
     "user": {
      "displayName": "Dofcop",
      "userId": "15109192304312586340"
     }
    }
   },
   "outputs": [],
   "source": [
    "from flask import Flask, request\n",
    "from pyngrok import ngrok\n",
    "import json\n",
    "import whisper"
   ]
  },
  {
   "cell_type": "markdown",
   "metadata": {
    "id": "G4xDe-tKkvr4"
   },
   "source": [
    "## Global variables"
   ]
  },
  {
   "cell_type": "code",
   "execution_count": 3,
   "metadata": {
    "colab": {
     "base_uri": "https://localhost:8080/",
     "height": 35
    },
    "executionInfo": {
     "elapsed": 3408,
     "status": "ok",
     "timestamp": 1726402313161,
     "user": {
      "displayName": "Dofcop",
      "userId": "15109192304312586340"
     },
     "user_tz": -420
    },
    "id": "nEyzcieyHhav",
    "outputId": "6b348e83-19a3-4025-865e-cbc118e529c1"
   },
   "outputs": [
    {
     "output_type": "stream",
     "name": "stdout",
     "text": []
    },
    {
     "output_type": "execute_result",
     "data": {
      "text/plain": [
       "'https://7c71-34-143-194-44.ngrok-free.app'"
      ],
      "application/vnd.google.colaboratory.intrinsic+json": {
       "type": "string"
      }
     },
     "metadata": {},
     "execution_count": 3
    }
   ],
   "source": [
    "NGROK_AUTH_TOKEN = 'YourToken'\n",
    "TRANSLATE_FILENAME = 'translate.wav'\n",
    "TRANSCRIBE_FILENAME = 'transcribe.wav'\n",
    "WHISPER_MODEL = 'small'\n",
    "port = 5000\n",
    "ngrok.set_auth_token(NGROK_AUTH_TOKEN)\n",
    "ngrok.connect(port).public_url"
   ]
  },
  {
   "cell_type": "markdown",
   "metadata": {
    "id": "zk57yzgEldFv"
   },
   "source": [
    "## Load WhisperAI model"
   ]
  },
  {
   "cell_type": "code",
   "execution_count": 4,
   "metadata": {
    "id": "j28fz90wP5vD",
    "colab": {
     "base_uri": "https://localhost:8080/"
    },
    "executionInfo": {
     "status": "ok",
     "timestamp": 1726402326496,
     "user_tz": -420,
     "elapsed": 13347,
     "user": {
      "displayName": "Dofcop",
      "userId": "15109192304312586340"
     }
    },
    "outputId": "54527fbd-ab2f-48cf-e95c-7de93d9821c9"
   },
   "outputs": [
    {
     "output_type": "stream",
     "name": "stderr",
     "text": [
      "100%|███████████████████████████████████████| 461M/461M [00:06<00:00, 77.9MiB/s]\n",
      "/usr/local/lib/python3.10/dist-packages/whisper/__init__.py:146: FutureWarning: You are using `torch.load` with `weights_only=False` (the current default value), which uses the default pickle module implicitly. It is possible to construct malicious pickle data which will execute arbitrary code during unpickling (See https://github.com/pytorch/pytorch/blob/main/SECURITY.md#untrusted-models for more details). In a future release, the default value for `weights_only` will be flipped to `True`. This limits the functions that could be executed during unpickling. Arbitrary objects will no longer be allowed to be loaded via this mode unless they are explicitly allowlisted by the user via `torch.serialization.add_safe_globals`. We recommend you start setting `weights_only=True` for any use case where you don't have full control of the loaded file. Please open an issue on GitHub for any issues related to this experimental feature.\n",
      "  checkpoint = torch.load(fp, map_location=device)\n"
     ]
    }
   ],
   "source": [
    "model = whisper.load_model(WHISPER_MODEL)"
   ]
  },
  {
   "cell_type": "markdown",
   "metadata": {
    "id": "LAYYG1ulljUl"
   },
   "source": [
    "## Run WhisperAI and host it using ngrok\n"
   ]
  },
  {
   "cell_type": "code",
   "execution_count": null,
   "metadata": {
    "colab": {
     "base_uri": "https://localhost:8080/"
    },
    "id": "hCrK1VjzOpJk",
    "outputId": "674f719b-1943-4ffb-e3b6-6e651b9cfdd6"
   },
   "outputs": [
    {
     "output_type": "stream",
     "name": "stdout",
     "text": [
      " * Serving Flask app '__main__'\n",
      " * Debug mode: off\n"
     ]
    },
    {
     "output_type": "stream",
     "name": "stderr",
     "text": [
      "INFO:werkzeug:\u001B[31m\u001B[1mWARNING: This is a development server. Do not use it in a production deployment. Use a production WSGI server instead.\u001B[0m\n",
      " * Running on http://127.0.0.1:5000\n",
      "INFO:werkzeug:\u001B[33mPress CTRL+C to quit\u001B[0m\n",
      "ERROR:__main__:Exception on /asr [POST]\n",
      "Traceback (most recent call last):\n",
      "  File \"/usr/local/lib/python3.10/dist-packages/flask/app.py\", line 2529, in wsgi_app\n",
      "    response = self.full_dispatch_request()\n",
      "  File \"/usr/local/lib/python3.10/dist-packages/flask/app.py\", line 1825, in full_dispatch_request\n",
      "    rv = self.handle_user_exception(e)\n",
      "  File \"/usr/local/lib/python3.10/dist-packages/flask/app.py\", line 1823, in full_dispatch_request\n",
      "    rv = self.dispatch_request()\n",
      "  File \"/usr/local/lib/python3.10/dist-packages/flask/app.py\", line 1799, in dispatch_request\n",
      "    return self.ensure_sync(self.view_functions[rule.endpoint])(**view_args)\n",
      "  File \"<ipython-input-5-cff0b777e3fa>\", line 24, in asr\n",
      "    result = model.transcribe(TRANSLATE_FILENAME, language='ja', task='translate')\n",
      "  File \"/usr/local/lib/python3.10/dist-packages/whisper/transcribe.py\", line 279, in transcribe\n",
      "    result: DecodingResult = decode_with_fallback(mel_segment)\n",
      "  File \"/usr/local/lib/python3.10/dist-packages/whisper/transcribe.py\", line 195, in decode_with_fallback\n",
      "    decode_result = model.decode(segment, options)\n",
      "  File \"/usr/local/lib/python3.10/dist-packages/torch/utils/_contextlib.py\", line 116, in decorate_context\n",
      "    return func(*args, **kwargs)\n",
      "  File \"/usr/local/lib/python3.10/dist-packages/whisper/decoding.py\", line 824, in decode\n",
      "    result = DecodingTask(model, options).run(mel)\n",
      "  File \"/usr/local/lib/python3.10/dist-packages/torch/utils/_contextlib.py\", line 116, in decorate_context\n",
      "    return func(*args, **kwargs)\n",
      "  File \"/usr/local/lib/python3.10/dist-packages/whisper/decoding.py\", line 737, in run\n",
      "    tokens, sum_logprobs, no_speech_probs = self._main_loop(audio_features, tokens)\n",
      "  File \"/usr/local/lib/python3.10/dist-packages/whisper/decoding.py\", line 687, in _main_loop\n",
      "    logits = self.inference.logits(tokens, audio_features)\n",
      "  File \"/usr/local/lib/python3.10/dist-packages/whisper/decoding.py\", line 163, in logits\n",
      "    return self.model.decoder(tokens, audio_features, kv_cache=self.kv_cache)\n",
      "  File \"/usr/local/lib/python3.10/dist-packages/torch/nn/modules/module.py\", line 1553, in _wrapped_call_impl\n",
      "    return self._call_impl(*args, **kwargs)\n",
      "  File \"/usr/local/lib/python3.10/dist-packages/torch/nn/modules/module.py\", line 1562, in _call_impl\n",
      "    return forward_call(*args, **kwargs)\n",
      "  File \"/usr/local/lib/python3.10/dist-packages/whisper/model.py\", line 211, in forward\n",
      "    x = block(x, xa, mask=self.mask, kv_cache=kv_cache)\n",
      "  File \"/usr/local/lib/python3.10/dist-packages/torch/nn/modules/module.py\", line 1553, in _wrapped_call_impl\n",
      "    return self._call_impl(*args, **kwargs)\n",
      "  File \"/usr/local/lib/python3.10/dist-packages/torch/nn/modules/module.py\", line 1562, in _call_impl\n",
      "    return forward_call(*args, **kwargs)\n",
      "  File \"/usr/local/lib/python3.10/dist-packages/whisper/model.py\", line 136, in forward\n",
      "    x = x + self.attn(self.attn_ln(x), mask=mask, kv_cache=kv_cache)[0]\n",
      "  File \"/usr/local/lib/python3.10/dist-packages/torch/nn/modules/module.py\", line 1553, in _wrapped_call_impl\n",
      "    return self._call_impl(*args, **kwargs)\n",
      "  File \"/usr/local/lib/python3.10/dist-packages/torch/nn/modules/module.py\", line 1562, in _call_impl\n",
      "    return forward_call(*args, **kwargs)\n",
      "  File \"/usr/local/lib/python3.10/dist-packages/whisper/model.py\", line 90, in forward\n",
      "    wv, qk = self.qkv_attention(q, k, v, mask)\n",
      "  File \"/usr/local/lib/python3.10/dist-packages/whisper/model.py\", line 104, in qkv_attention\n",
      "    qk = qk + mask[:n_ctx, :n_ctx]\n",
      "RuntimeError: The size of tensor a (9) must match the size of tensor b (3) at non-singleton dimension 3\n",
      "INFO:werkzeug:127.0.0.1 - - [15/Sep/2024 12:12:58] \"\u001B[35m\u001B[1mPOST /asr?task=translate&language=ja&output=json HTTP/1.1\u001B[0m\" 500 -\n",
      "INFO:werkzeug:127.0.0.1 - - [15/Sep/2024 12:12:59] \"POST /asr?task=translate&language=ja&output=json HTTP/1.1\" 200 -\n",
      "INFO:werkzeug:127.0.0.1 - - [15/Sep/2024 12:13:06] \"POST /asr?task=translate&language=ja&output=json HTTP/1.1\" 200 -\n",
      "INFO:werkzeug:127.0.0.1 - - [15/Sep/2024 12:13:08] \"POST /asr?task=translate&language=ja&output=json HTTP/1.1\" 200 -\n",
      "INFO:werkzeug:127.0.0.1 - - [15/Sep/2024 12:13:15] \"POST /asr?task=translate&language=ja&output=json HTTP/1.1\" 200 -\n",
      "INFO:werkzeug:127.0.0.1 - - [15/Sep/2024 12:13:17] \"POST /asr?task=translate&language=ja&output=json HTTP/1.1\" 200 -\n",
      "INFO:werkzeug:127.0.0.1 - - [15/Sep/2024 12:13:22] \"POST /asr?task=translate&language=ja&output=json HTTP/1.1\" 200 -\n",
      "INFO:werkzeug:127.0.0.1 - - [15/Sep/2024 12:13:23] \"POST /asr?task=translate&language=ja&output=json HTTP/1.1\" 200 -\n",
      "INFO:werkzeug:127.0.0.1 - - [15/Sep/2024 12:13:28] \"POST /asr?task=translate&language=ja&output=json HTTP/1.1\" 200 -\n",
      "INFO:werkzeug:127.0.0.1 - - [15/Sep/2024 12:13:29] \"POST /asr?task=translate&language=ja&output=json HTTP/1.1\" 200 -\n",
      "INFO:werkzeug:127.0.0.1 - - [15/Sep/2024 12:13:35] \"POST /asr?task=translate&language=ja&output=json HTTP/1.1\" 200 -\n",
      "INFO:werkzeug:127.0.0.1 - - [15/Sep/2024 12:13:36] \"POST /asr?task=translate&language=ja&output=json HTTP/1.1\" 200 -\n",
      "INFO:werkzeug:127.0.0.1 - - [15/Sep/2024 12:13:39] \"POST /asr?task=translate&language=ja&output=json HTTP/1.1\" 200 -\n",
      "INFO:werkzeug:127.0.0.1 - - [15/Sep/2024 12:14:18] \"POST /asr?task=translate&language=ja&output=json HTTP/1.1\" 200 -\n",
      "INFO:werkzeug:127.0.0.1 - - [15/Sep/2024 12:14:41] \"POST /asr?task=translate&language=ja&output=json HTTP/1.1\" 200 -\n",
      "INFO:werkzeug:127.0.0.1 - - [15/Sep/2024 12:15:28] \"POST /asr?task=translate&language=ja&output=json HTTP/1.1\" 200 -\n",
      "INFO:werkzeug:127.0.0.1 - - [15/Sep/2024 12:15:29] \"POST /asr?task=translate&language=ja&output=json HTTP/1.1\" 200 -\n",
      "INFO:werkzeug:127.0.0.1 - - [15/Sep/2024 12:15:32] \"POST /asr?task=translate&language=ja&output=json HTTP/1.1\" 200 -\n",
      "INFO:werkzeug:127.0.0.1 - - [15/Sep/2024 12:15:35] \"POST /asr?task=translate&language=ja&output=json HTTP/1.1\" 200 -\n",
      "INFO:werkzeug:127.0.0.1 - - [15/Sep/2024 12:15:38] \"POST /asr?task=translate&language=ja&output=json HTTP/1.1\" 200 -\n",
      "INFO:werkzeug:127.0.0.1 - - [15/Sep/2024 12:15:41] \"POST /asr?task=translate&language=ja&output=json HTTP/1.1\" 200 -\n",
      "INFO:werkzeug:127.0.0.1 - - [15/Sep/2024 12:15:44] \"POST /asr?task=translate&language=ja&output=json HTTP/1.1\" 200 -\n",
      "INFO:werkzeug:127.0.0.1 - - [15/Sep/2024 12:15:47] \"POST /asr?task=translate&language=ja&output=json HTTP/1.1\" 200 -\n",
      "INFO:werkzeug:127.0.0.1 - - [15/Sep/2024 12:15:50] \"POST /asr?task=translate&language=ja&output=json HTTP/1.1\" 200 -\n",
      "INFO:werkzeug:127.0.0.1 - - [15/Sep/2024 12:15:53] \"POST /asr?task=translate&language=ja&output=json HTTP/1.1\" 200 -\n",
      "INFO:werkzeug:127.0.0.1 - - [15/Sep/2024 12:15:56] \"POST /asr?task=translate&language=ja&output=json HTTP/1.1\" 200 -\n",
      "INFO:werkzeug:127.0.0.1 - - [15/Sep/2024 12:16:07] \"POST /asr?task=translate&language=ja&output=json HTTP/1.1\" 200 -\n",
      "INFO:werkzeug:127.0.0.1 - - [15/Sep/2024 12:16:10] \"POST /asr?task=translate&language=ja&output=json HTTP/1.1\" 200 -\n",
      "INFO:werkzeug:127.0.0.1 - - [15/Sep/2024 12:16:21] \"POST /asr?task=translate&language=ja&output=json HTTP/1.1\" 200 -\n",
      "INFO:werkzeug:127.0.0.1 - - [15/Sep/2024 12:16:24] \"POST /asr?task=translate&language=ja&output=json HTTP/1.1\" 200 -\n",
      "INFO:werkzeug:127.0.0.1 - - [15/Sep/2024 12:16:29] \"POST /asr?task=translate&language=ja&output=json HTTP/1.1\" 200 -\n",
      "INFO:werkzeug:127.0.0.1 - - [15/Sep/2024 12:16:30] \"POST /asr?task=translate&language=ja&output=json HTTP/1.1\" 200 -\n",
      "INFO:werkzeug:127.0.0.1 - - [15/Sep/2024 12:16:32] \"POST /asr?task=translate&language=ja&output=json HTTP/1.1\" 200 -\n",
      "INFO:werkzeug:127.0.0.1 - - [15/Sep/2024 12:16:36] \"POST /asr?task=translate&language=ja&output=json HTTP/1.1\" 200 -\n",
      "INFO:werkzeug:127.0.0.1 - - [15/Sep/2024 12:16:39] \"POST /asr?task=translate&language=ja&output=json HTTP/1.1\" 200 -\n",
      "INFO:werkzeug:127.0.0.1 - - [15/Sep/2024 12:16:43] \"POST /asr?task=translate&language=ja&output=json HTTP/1.1\" 200 -\n",
      "INFO:werkzeug:127.0.0.1 - - [15/Sep/2024 12:16:47] \"POST /asr?task=translate&language=ja&output=json HTTP/1.1\" 200 -\n",
      "INFO:werkzeug:127.0.0.1 - - [15/Sep/2024 12:16:49] \"POST /asr?task=translate&language=ja&output=json HTTP/1.1\" 200 -\n",
      "INFO:werkzeug:127.0.0.1 - - [15/Sep/2024 12:16:52] \"POST /asr?task=translate&language=ja&output=json HTTP/1.1\" 200 -\n",
      "INFO:werkzeug:127.0.0.1 - - [15/Sep/2024 12:16:57] \"POST /asr?task=translate&language=ja&output=json HTTP/1.1\" 200 -\n",
      "INFO:werkzeug:127.0.0.1 - - [15/Sep/2024 12:17:00] \"POST /asr?task=translate&language=ja&output=json HTTP/1.1\" 200 -\n",
      "INFO:werkzeug:127.0.0.1 - - [15/Sep/2024 12:17:04] \"POST /asr?task=translate&language=ja&output=json HTTP/1.1\" 200 -\n",
      "INFO:werkzeug:127.0.0.1 - - [15/Sep/2024 12:17:06] \"POST /asr?task=translate&language=ja&output=json HTTP/1.1\" 200 -\n",
      "INFO:werkzeug:127.0.0.1 - - [15/Sep/2024 12:17:09] \"POST /asr?task=translate&language=ja&output=json HTTP/1.1\" 200 -\n",
      "INFO:werkzeug:127.0.0.1 - - [15/Sep/2024 12:17:15] \"POST /asr?task=translate&language=ja&output=json HTTP/1.1\" 200 -\n",
      "INFO:werkzeug:127.0.0.1 - - [15/Sep/2024 12:17:18] \"POST /asr?task=translate&language=ja&output=json HTTP/1.1\" 200 -\n",
      "INFO:werkzeug:127.0.0.1 - - [15/Sep/2024 12:17:21] \"POST /asr?task=translate&language=ja&output=json HTTP/1.1\" 200 -\n",
      "INFO:werkzeug:127.0.0.1 - - [15/Sep/2024 12:17:31] \"POST /asr?task=translate&language=ja&output=json HTTP/1.1\" 200 -\n",
      "INFO:werkzeug:127.0.0.1 - - [15/Sep/2024 12:17:34] \"POST /asr?task=translate&language=ja&output=json HTTP/1.1\" 200 -\n",
      "INFO:werkzeug:127.0.0.1 - - [15/Sep/2024 12:17:36] \"POST /asr?task=translate&language=ja&output=json HTTP/1.1\" 200 -\n",
      "INFO:werkzeug:127.0.0.1 - - [15/Sep/2024 12:17:39] \"POST /asr?task=translate&language=ja&output=json HTTP/1.1\" 200 -\n",
      "INFO:werkzeug:127.0.0.1 - - [15/Sep/2024 12:17:42] \"POST /asr?task=translate&language=ja&output=json HTTP/1.1\" 200 -\n",
      "INFO:werkzeug:127.0.0.1 - - [15/Sep/2024 12:17:45] \"POST /asr?task=translate&language=ja&output=json HTTP/1.1\" 200 -\n",
      "INFO:werkzeug:127.0.0.1 - - [15/Sep/2024 12:17:48] \"POST /asr?task=translate&language=ja&output=json HTTP/1.1\" 200 -\n",
      "ERROR:__main__:Exception on /asr [POST]\n",
      "Traceback (most recent call last):\n",
      "  File \"/usr/local/lib/python3.10/dist-packages/flask/app.py\", line 2529, in wsgi_app\n",
      "    response = self.full_dispatch_request()\n",
      "  File \"/usr/local/lib/python3.10/dist-packages/flask/app.py\", line 1825, in full_dispatch_request\n",
      "    rv = self.handle_user_exception(e)\n",
      "  File \"/usr/local/lib/python3.10/dist-packages/flask/app.py\", line 1823, in full_dispatch_request\n",
      "    rv = self.dispatch_request()\n",
      "  File \"/usr/local/lib/python3.10/dist-packages/flask/app.py\", line 1799, in dispatch_request\n",
      "    return self.ensure_sync(self.view_functions[rule.endpoint])(**view_args)\n",
      "  File \"<ipython-input-5-cff0b777e3fa>\", line 24, in asr\n",
      "    result = model.transcribe(TRANSLATE_FILENAME, language='ja', task='translate')\n",
      "  File \"/usr/local/lib/python3.10/dist-packages/whisper/transcribe.py\", line 279, in transcribe\n",
      "    result: DecodingResult = decode_with_fallback(mel_segment)\n",
      "  File \"/usr/local/lib/python3.10/dist-packages/whisper/transcribe.py\", line 195, in decode_with_fallback\n",
      "    decode_result = model.decode(segment, options)\n",
      "  File \"/usr/local/lib/python3.10/dist-packages/torch/utils/_contextlib.py\", line 116, in decorate_context\n",
      "    return func(*args, **kwargs)\n",
      "  File \"/usr/local/lib/python3.10/dist-packages/whisper/decoding.py\", line 824, in decode\n",
      "    result = DecodingTask(model, options).run(mel)\n",
      "  File \"/usr/local/lib/python3.10/dist-packages/torch/utils/_contextlib.py\", line 116, in decorate_context\n",
      "    return func(*args, **kwargs)\n",
      "  File \"/usr/local/lib/python3.10/dist-packages/whisper/decoding.py\", line 737, in run\n",
      "    tokens, sum_logprobs, no_speech_probs = self._main_loop(audio_features, tokens)\n",
      "  File \"/usr/local/lib/python3.10/dist-packages/whisper/decoding.py\", line 687, in _main_loop\n",
      "    logits = self.inference.logits(tokens, audio_features)\n",
      "  File \"/usr/local/lib/python3.10/dist-packages/whisper/decoding.py\", line 163, in logits\n",
      "    return self.model.decoder(tokens, audio_features, kv_cache=self.kv_cache)\n",
      "  File \"/usr/local/lib/python3.10/dist-packages/torch/nn/modules/module.py\", line 1553, in _wrapped_call_impl\n",
      "    return self._call_impl(*args, **kwargs)\n",
      "  File \"/usr/local/lib/python3.10/dist-packages/torch/nn/modules/module.py\", line 1562, in _call_impl\n",
      "    return forward_call(*args, **kwargs)\n",
      "  File \"/usr/local/lib/python3.10/dist-packages/whisper/model.py\", line 211, in forward\n",
      "    x = block(x, xa, mask=self.mask, kv_cache=kv_cache)\n",
      "  File \"/usr/local/lib/python3.10/dist-packages/torch/nn/modules/module.py\", line 1553, in _wrapped_call_impl\n",
      "    return self._call_impl(*args, **kwargs)\n",
      "  File \"/usr/local/lib/python3.10/dist-packages/torch/nn/modules/module.py\", line 1562, in _call_impl\n",
      "    return forward_call(*args, **kwargs)\n",
      "  File \"/usr/local/lib/python3.10/dist-packages/whisper/model.py\", line 136, in forward\n",
      "    x = x + self.attn(self.attn_ln(x), mask=mask, kv_cache=kv_cache)[0]\n",
      "  File \"/usr/local/lib/python3.10/dist-packages/torch/nn/modules/module.py\", line 1553, in _wrapped_call_impl\n",
      "    return self._call_impl(*args, **kwargs)\n",
      "  File \"/usr/local/lib/python3.10/dist-packages/torch/nn/modules/module.py\", line 1562, in _call_impl\n",
      "    return forward_call(*args, **kwargs)\n",
      "  File \"/usr/local/lib/python3.10/dist-packages/whisper/model.py\", line 90, in forward\n",
      "    wv, qk = self.qkv_attention(q, k, v, mask)\n",
      "  File \"/usr/local/lib/python3.10/dist-packages/whisper/model.py\", line 104, in qkv_attention\n",
      "    qk = qk + mask[:n_ctx, :n_ctx]\n",
      "RuntimeError: The size of tensor a (157) must match the size of tensor b (3) at non-singleton dimension 3\n",
      "INFO:werkzeug:127.0.0.1 - - [15/Sep/2024 12:17:54] \"\u001B[35m\u001B[1mPOST /asr?task=translate&language=ja&output=json HTTP/1.1\u001B[0m\" 500 -\n",
      "INFO:werkzeug:127.0.0.1 - - [15/Sep/2024 12:17:56] \"POST /asr?task=translate&language=ja&output=json HTTP/1.1\" 200 -\n",
      "INFO:werkzeug:127.0.0.1 - - [15/Sep/2024 12:17:57] \"POST /asr?task=translate&language=ja&output=json HTTP/1.1\" 200 -\n",
      "INFO:werkzeug:127.0.0.1 - - [15/Sep/2024 12:18:01] \"POST /asr?task=translate&language=ja&output=json HTTP/1.1\" 200 -\n",
      "INFO:werkzeug:127.0.0.1 - - [15/Sep/2024 12:18:03] \"POST /asr?task=translate&language=ja&output=json HTTP/1.1\" 200 -\n",
      "INFO:werkzeug:127.0.0.1 - - [15/Sep/2024 12:18:06] \"POST /asr?task=translate&language=ja&output=json HTTP/1.1\" 200 -\n",
      "INFO:werkzeug:127.0.0.1 - - [15/Sep/2024 12:18:11] \"POST /asr?task=translate&language=ja&output=json HTTP/1.1\" 200 -\n",
      "INFO:werkzeug:127.0.0.1 - - [15/Sep/2024 12:18:12] \"POST /asr?task=translate&language=ja&output=json HTTP/1.1\" 200 -\n",
      "INFO:werkzeug:127.0.0.1 - - [15/Sep/2024 12:18:16] \"POST /asr?task=translate&language=ja&output=json HTTP/1.1\" 200 -\n",
      "INFO:werkzeug:127.0.0.1 - - [15/Sep/2024 12:18:19] \"POST /asr?task=translate&language=ja&output=json HTTP/1.1\" 200 -\n",
      "INFO:werkzeug:127.0.0.1 - - [15/Sep/2024 12:18:22] \"POST /asr?task=translate&language=ja&output=json HTTP/1.1\" 200 -\n",
      "INFO:werkzeug:127.0.0.1 - - [15/Sep/2024 12:18:24] \"POST /asr?task=translate&language=ja&output=json HTTP/1.1\" 200 -\n",
      "INFO:werkzeug:127.0.0.1 - - [15/Sep/2024 12:18:28] \"POST /asr?task=translate&language=ja&output=json HTTP/1.1\" 200 -\n",
      "INFO:werkzeug:127.0.0.1 - - [15/Sep/2024 12:18:31] \"POST /asr?task=translate&language=ja&output=json HTTP/1.1\" 200 -\n",
      "INFO:werkzeug:127.0.0.1 - - [15/Sep/2024 12:18:33] \"POST /asr?task=translate&language=ja&output=json HTTP/1.1\" 200 -\n",
      "INFO:werkzeug:127.0.0.1 - - [15/Sep/2024 12:18:37] \"POST /asr?task=translate&language=ja&output=json HTTP/1.1\" 200 -\n",
      "INFO:werkzeug:127.0.0.1 - - [15/Sep/2024 12:18:40] \"POST /asr?task=translate&language=ja&output=json HTTP/1.1\" 200 -\n",
      "INFO:werkzeug:127.0.0.1 - - [15/Sep/2024 12:18:42] \"POST /asr?task=translate&language=ja&output=json HTTP/1.1\" 200 -\n",
      "INFO:werkzeug:127.0.0.1 - - [15/Sep/2024 12:18:45] \"POST /asr?task=translate&language=ja&output=json HTTP/1.1\" 200 -\n",
      "INFO:werkzeug:127.0.0.1 - - [15/Sep/2024 12:18:49] \"POST /asr?task=translate&language=ja&output=json HTTP/1.1\" 200 -\n",
      "INFO:werkzeug:127.0.0.1 - - [15/Sep/2024 12:18:51] \"POST /asr?task=translate&language=ja&output=json HTTP/1.1\" 200 -\n",
      "INFO:werkzeug:127.0.0.1 - - [15/Sep/2024 12:18:55] \"POST /asr?task=translate&language=ja&output=json HTTP/1.1\" 200 -\n",
      "INFO:werkzeug:127.0.0.1 - - [15/Sep/2024 12:18:58] \"POST /asr?task=translate&language=ja&output=json HTTP/1.1\" 200 -\n",
      "INFO:werkzeug:127.0.0.1 - - [15/Sep/2024 12:19:01] \"POST /asr?task=translate&language=ja&output=json HTTP/1.1\" 200 -\n",
      "INFO:werkzeug:127.0.0.1 - - [15/Sep/2024 12:19:03] \"POST /asr?task=translate&language=ja&output=json HTTP/1.1\" 200 -\n",
      "INFO:werkzeug:127.0.0.1 - - [15/Sep/2024 12:19:07] \"POST /asr?task=translate&language=ja&output=json HTTP/1.1\" 200 -\n",
      "INFO:werkzeug:127.0.0.1 - - [15/Sep/2024 12:19:10] \"POST /asr?task=translate&language=ja&output=json HTTP/1.1\" 200 -\n",
      "INFO:werkzeug:127.0.0.1 - - [15/Sep/2024 12:19:12] \"POST /asr?task=translate&language=ja&output=json HTTP/1.1\" 200 -\n",
      "INFO:werkzeug:127.0.0.1 - - [15/Sep/2024 12:19:16] \"POST /asr?task=translate&language=ja&output=json HTTP/1.1\" 200 -\n",
      "INFO:werkzeug:127.0.0.1 - - [15/Sep/2024 12:19:19] \"POST /asr?task=translate&language=ja&output=json HTTP/1.1\" 200 -\n",
      "INFO:werkzeug:127.0.0.1 - - [15/Sep/2024 12:19:22] \"POST /asr?task=translate&language=ja&output=json HTTP/1.1\" 200 -\n",
      "INFO:werkzeug:127.0.0.1 - - [15/Sep/2024 12:19:25] \"POST /asr?task=translate&language=ja&output=json HTTP/1.1\" 200 -\n",
      "ERROR:__main__:Exception on /asr [POST]\n",
      "Traceback (most recent call last):\n",
      "  File \"/usr/local/lib/python3.10/dist-packages/flask/app.py\", line 2529, in wsgi_app\n",
      "    response = self.full_dispatch_request()\n",
      "  File \"/usr/local/lib/python3.10/dist-packages/flask/app.py\", line 1825, in full_dispatch_request\n",
      "    rv = self.handle_user_exception(e)\n",
      "  File \"/usr/local/lib/python3.10/dist-packages/flask/app.py\", line 1823, in full_dispatch_request\n",
      "    rv = self.dispatch_request()\n",
      "  File \"/usr/local/lib/python3.10/dist-packages/flask/app.py\", line 1799, in dispatch_request\n",
      "    return self.ensure_sync(self.view_functions[rule.endpoint])(**view_args)\n",
      "  File \"<ipython-input-5-cff0b777e3fa>\", line 24, in asr\n",
      "    result = model.transcribe(TRANSLATE_FILENAME, language='ja', task='translate')\n",
      "  File \"/usr/local/lib/python3.10/dist-packages/whisper/transcribe.py\", line 279, in transcribe\n",
      "    result: DecodingResult = decode_with_fallback(mel_segment)\n",
      "  File \"/usr/local/lib/python3.10/dist-packages/whisper/transcribe.py\", line 195, in decode_with_fallback\n",
      "    decode_result = model.decode(segment, options)\n",
      "  File \"/usr/local/lib/python3.10/dist-packages/torch/utils/_contextlib.py\", line 116, in decorate_context\n",
      "    return func(*args, **kwargs)\n",
      "  File \"/usr/local/lib/python3.10/dist-packages/whisper/decoding.py\", line 824, in decode\n",
      "    result = DecodingTask(model, options).run(mel)\n",
      "  File \"/usr/local/lib/python3.10/dist-packages/torch/utils/_contextlib.py\", line 116, in decorate_context\n",
      "    return func(*args, **kwargs)\n",
      "  File \"/usr/local/lib/python3.10/dist-packages/whisper/decoding.py\", line 737, in run\n",
      "    tokens, sum_logprobs, no_speech_probs = self._main_loop(audio_features, tokens)\n",
      "  File \"/usr/local/lib/python3.10/dist-packages/whisper/decoding.py\", line 687, in _main_loop\n",
      "    logits = self.inference.logits(tokens, audio_features)\n",
      "  File \"/usr/local/lib/python3.10/dist-packages/whisper/decoding.py\", line 163, in logits\n",
      "    return self.model.decoder(tokens, audio_features, kv_cache=self.kv_cache)\n",
      "  File \"/usr/local/lib/python3.10/dist-packages/torch/nn/modules/module.py\", line 1553, in _wrapped_call_impl\n",
      "    return self._call_impl(*args, **kwargs)\n",
      "  File \"/usr/local/lib/python3.10/dist-packages/torch/nn/modules/module.py\", line 1562, in _call_impl\n",
      "    return forward_call(*args, **kwargs)\n",
      "  File \"/usr/local/lib/python3.10/dist-packages/whisper/model.py\", line 211, in forward\n",
      "    x = block(x, xa, mask=self.mask, kv_cache=kv_cache)\n",
      "  File \"/usr/local/lib/python3.10/dist-packages/torch/nn/modules/module.py\", line 1553, in _wrapped_call_impl\n",
      "    return self._call_impl(*args, **kwargs)\n",
      "  File \"/usr/local/lib/python3.10/dist-packages/torch/nn/modules/module.py\", line 1562, in _call_impl\n",
      "    return forward_call(*args, **kwargs)\n",
      "  File \"/usr/local/lib/python3.10/dist-packages/whisper/model.py\", line 136, in forward\n",
      "    x = x + self.attn(self.attn_ln(x), mask=mask, kv_cache=kv_cache)[0]\n",
      "  File \"/usr/local/lib/python3.10/dist-packages/torch/nn/modules/module.py\", line 1553, in _wrapped_call_impl\n",
      "    return self._call_impl(*args, **kwargs)\n",
      "  File \"/usr/local/lib/python3.10/dist-packages/torch/nn/modules/module.py\", line 1562, in _call_impl\n",
      "    return forward_call(*args, **kwargs)\n",
      "  File \"/usr/local/lib/python3.10/dist-packages/whisper/model.py\", line 90, in forward\n",
      "    wv, qk = self.qkv_attention(q, k, v, mask)\n",
      "  File \"/usr/local/lib/python3.10/dist-packages/whisper/model.py\", line 104, in qkv_attention\n",
      "    qk = qk + mask[:n_ctx, :n_ctx]\n",
      "RuntimeError: The size of tensor a (188) must match the size of tensor b (3) at non-singleton dimension 3\n",
      "INFO:werkzeug:127.0.0.1 - - [15/Sep/2024 12:19:31] \"\u001B[35m\u001B[1mPOST /asr?task=translate&language=ja&output=json HTTP/1.1\u001B[0m\" 500 -\n",
      "INFO:werkzeug:127.0.0.1 - - [15/Sep/2024 12:19:32] \"POST /asr?task=translate&language=ja&output=json HTTP/1.1\" 200 -\n",
      "INFO:werkzeug:127.0.0.1 - - [15/Sep/2024 12:19:33] \"POST /asr?task=translate&language=ja&output=json HTTP/1.1\" 200 -\n",
      "INFO:werkzeug:127.0.0.1 - - [15/Sep/2024 12:19:37] \"POST /asr?task=translate&language=ja&output=json HTTP/1.1\" 200 -\n",
      "INFO:werkzeug:127.0.0.1 - - [15/Sep/2024 12:19:40] \"POST /asr?task=translate&language=ja&output=json HTTP/1.1\" 200 -\n",
      "INFO:werkzeug:127.0.0.1 - - [15/Sep/2024 12:19:43] \"POST /asr?task=translate&language=ja&output=json HTTP/1.1\" 200 -\n",
      "INFO:werkzeug:127.0.0.1 - - [15/Sep/2024 12:19:46] \"POST /asr?task=translate&language=ja&output=json HTTP/1.1\" 200 -\n",
      "INFO:werkzeug:127.0.0.1 - - [15/Sep/2024 12:19:49] \"POST /asr?task=translate&language=ja&output=json HTTP/1.1\" 200 -\n",
      "INFO:werkzeug:127.0.0.1 - - [15/Sep/2024 12:19:52] \"POST /asr?task=translate&language=ja&output=json HTTP/1.1\" 200 -\n",
      "INFO:werkzeug:127.0.0.1 - - [15/Sep/2024 12:19:55] \"POST /asr?task=translate&language=ja&output=json HTTP/1.1\" 200 -\n",
      "INFO:werkzeug:127.0.0.1 - - [15/Sep/2024 12:19:58] \"POST /asr?task=translate&language=ja&output=json HTTP/1.1\" 200 -\n",
      "INFO:werkzeug:127.0.0.1 - - [15/Sep/2024 12:20:01] \"POST /asr?task=translate&language=ja&output=json HTTP/1.1\" 200 -\n",
      "INFO:werkzeug:127.0.0.1 - - [15/Sep/2024 12:20:04] \"POST /asr?task=translate&language=ja&output=json HTTP/1.1\" 200 -\n",
      "INFO:werkzeug:127.0.0.1 - - [15/Sep/2024 12:20:09] \"POST /asr?task=translate&language=ja&output=json HTTP/1.1\" 200 -\n",
      "INFO:werkzeug:127.0.0.1 - - [15/Sep/2024 12:20:10] \"POST /asr?task=translate&language=ja&output=json HTTP/1.1\" 200 -\n",
      "INFO:werkzeug:127.0.0.1 - - [15/Sep/2024 12:20:13] \"POST /asr?task=translate&language=ja&output=json HTTP/1.1\" 200 -\n",
      "INFO:werkzeug:127.0.0.1 - - [15/Sep/2024 12:20:16] \"POST /asr?task=translate&language=ja&output=json HTTP/1.1\" 200 -\n",
      "INFO:werkzeug:127.0.0.1 - - [15/Sep/2024 12:20:19] \"POST /asr?task=translate&language=ja&output=json HTTP/1.1\" 200 -\n",
      "INFO:werkzeug:127.0.0.1 - - [15/Sep/2024 12:20:22] \"POST /asr?task=translate&language=ja&output=json HTTP/1.1\" 200 -\n",
      "INFO:werkzeug:127.0.0.1 - - [15/Sep/2024 12:20:25] \"POST /asr?task=translate&language=ja&output=json HTTP/1.1\" 200 -\n",
      "ERROR:__main__:Exception on /asr [POST]\n",
      "Traceback (most recent call last):\n",
      "  File \"/usr/local/lib/python3.10/dist-packages/flask/app.py\", line 2529, in wsgi_app\n",
      "    response = self.full_dispatch_request()\n",
      "  File \"/usr/local/lib/python3.10/dist-packages/flask/app.py\", line 1825, in full_dispatch_request\n",
      "    rv = self.handle_user_exception(e)\n",
      "  File \"/usr/local/lib/python3.10/dist-packages/flask/app.py\", line 1823, in full_dispatch_request\n",
      "    rv = self.dispatch_request()\n",
      "  File \"/usr/local/lib/python3.10/dist-packages/flask/app.py\", line 1799, in dispatch_request\n",
      "    return self.ensure_sync(self.view_functions[rule.endpoint])(**view_args)\n",
      "  File \"<ipython-input-5-cff0b777e3fa>\", line 24, in asr\n",
      "    result = model.transcribe(TRANSLATE_FILENAME, language='ja', task='translate')\n",
      "  File \"/usr/local/lib/python3.10/dist-packages/whisper/transcribe.py\", line 279, in transcribe\n",
      "    result: DecodingResult = decode_with_fallback(mel_segment)\n",
      "  File \"/usr/local/lib/python3.10/dist-packages/whisper/transcribe.py\", line 195, in decode_with_fallback\n",
      "    decode_result = model.decode(segment, options)\n",
      "  File \"/usr/local/lib/python3.10/dist-packages/torch/utils/_contextlib.py\", line 116, in decorate_context\n",
      "    return func(*args, **kwargs)\n",
      "  File \"/usr/local/lib/python3.10/dist-packages/whisper/decoding.py\", line 824, in decode\n",
      "    result = DecodingTask(model, options).run(mel)\n",
      "  File \"/usr/local/lib/python3.10/dist-packages/torch/utils/_contextlib.py\", line 116, in decorate_context\n",
      "    return func(*args, **kwargs)\n",
      "  File \"/usr/local/lib/python3.10/dist-packages/whisper/decoding.py\", line 737, in run\n",
      "    tokens, sum_logprobs, no_speech_probs = self._main_loop(audio_features, tokens)\n",
      "  File \"/usr/local/lib/python3.10/dist-packages/whisper/decoding.py\", line 687, in _main_loop\n",
      "    logits = self.inference.logits(tokens, audio_features)\n",
      "  File \"/usr/local/lib/python3.10/dist-packages/whisper/decoding.py\", line 163, in logits\n",
      "    return self.model.decoder(tokens, audio_features, kv_cache=self.kv_cache)\n",
      "  File \"/usr/local/lib/python3.10/dist-packages/torch/nn/modules/module.py\", line 1553, in _wrapped_call_impl\n",
      "    return self._call_impl(*args, **kwargs)\n",
      "  File \"/usr/local/lib/python3.10/dist-packages/torch/nn/modules/module.py\", line 1562, in _call_impl\n",
      "    return forward_call(*args, **kwargs)\n",
      "  File \"/usr/local/lib/python3.10/dist-packages/whisper/model.py\", line 211, in forward\n",
      "    x = block(x, xa, mask=self.mask, kv_cache=kv_cache)\n",
      "  File \"/usr/local/lib/python3.10/dist-packages/torch/nn/modules/module.py\", line 1553, in _wrapped_call_impl\n",
      "    return self._call_impl(*args, **kwargs)\n",
      "  File \"/usr/local/lib/python3.10/dist-packages/torch/nn/modules/module.py\", line 1562, in _call_impl\n",
      "    return forward_call(*args, **kwargs)\n",
      "  File \"/usr/local/lib/python3.10/dist-packages/whisper/model.py\", line 136, in forward\n",
      "    x = x + self.attn(self.attn_ln(x), mask=mask, kv_cache=kv_cache)[0]\n",
      "  File \"/usr/local/lib/python3.10/dist-packages/torch/nn/modules/module.py\", line 1553, in _wrapped_call_impl\n",
      "    return self._call_impl(*args, **kwargs)\n",
      "  File \"/usr/local/lib/python3.10/dist-packages/torch/nn/modules/module.py\", line 1562, in _call_impl\n",
      "    return forward_call(*args, **kwargs)\n",
      "  File \"/usr/local/lib/python3.10/dist-packages/whisper/model.py\", line 90, in forward\n",
      "    wv, qk = self.qkv_attention(q, k, v, mask)\n",
      "  File \"/usr/local/lib/python3.10/dist-packages/whisper/model.py\", line 104, in qkv_attention\n",
      "    qk = qk + mask[:n_ctx, :n_ctx]\n",
      "RuntimeError: The size of tensor a (164) must match the size of tensor b (3) at non-singleton dimension 3\n",
      "INFO:werkzeug:127.0.0.1 - - [15/Sep/2024 12:20:31] \"\u001B[35m\u001B[1mPOST /asr?task=translate&language=ja&output=json HTTP/1.1\u001B[0m\" 500 -\n",
      "INFO:werkzeug:127.0.0.1 - - [15/Sep/2024 12:20:32] \"POST /asr?task=translate&language=ja&output=json HTTP/1.1\" 200 -\n",
      "INFO:werkzeug:127.0.0.1 - - [15/Sep/2024 12:20:34] \"POST /asr?task=translate&language=ja&output=json HTTP/1.1\" 200 -\n",
      "INFO:werkzeug:127.0.0.1 - - [15/Sep/2024 12:20:37] \"POST /asr?task=translate&language=ja&output=json HTTP/1.1\" 200 -\n",
      "INFO:werkzeug:127.0.0.1 - - [15/Sep/2024 12:20:40] \"POST /asr?task=translate&language=ja&output=json HTTP/1.1\" 200 -\n",
      "INFO:werkzeug:127.0.0.1 - - [15/Sep/2024 12:20:43] \"POST /asr?task=translate&language=ja&output=json HTTP/1.1\" 200 -\n",
      "INFO:werkzeug:127.0.0.1 - - [15/Sep/2024 12:20:44] \"POST /asr?task=translate&language=ja&output=json HTTP/1.1\" 200 -\n",
      "INFO:werkzeug:127.0.0.1 - - [15/Sep/2024 12:20:50] \"POST /asr?task=translate&language=ja&output=json HTTP/1.1\" 200 -\n",
      "INFO:werkzeug:127.0.0.1 - - [15/Sep/2024 12:20:51] \"POST /asr?task=translate&language=ja&output=json HTTP/1.1\" 200 -\n",
      "INFO:werkzeug:127.0.0.1 - - [15/Sep/2024 12:20:59] \"POST /asr?task=translate&language=ja&output=json HTTP/1.1\" 200 -\n",
      "INFO:werkzeug:127.0.0.1 - - [15/Sep/2024 12:21:00] \"POST /asr?task=translate&language=ja&output=json HTTP/1.1\" 200 -\n",
      "INFO:werkzeug:127.0.0.1 - - [15/Sep/2024 12:21:03] \"POST /asr?task=translate&language=ja&output=json HTTP/1.1\" 200 -\n",
      "INFO:werkzeug:127.0.0.1 - - [15/Sep/2024 12:21:08] \"POST /asr?task=translate&language=ja&output=json HTTP/1.1\" 200 -\n",
      "INFO:werkzeug:127.0.0.1 - - [15/Sep/2024 12:21:09] \"POST /asr?task=translate&language=ja&output=json HTTP/1.1\" 200 -\n",
      "INFO:werkzeug:127.0.0.1 - - [15/Sep/2024 12:21:14] \"POST /asr?task=translate&language=ja&output=json HTTP/1.1\" 200 -\n",
      "INFO:werkzeug:127.0.0.1 - - [15/Sep/2024 12:21:17] \"POST /asr?task=translate&language=ja&output=json HTTP/1.1\" 200 -\n",
      "INFO:werkzeug:127.0.0.1 - - [15/Sep/2024 12:21:23] \"POST /asr?task=translate&language=ja&output=json HTTP/1.1\" 200 -\n",
      "INFO:werkzeug:127.0.0.1 - - [15/Sep/2024 12:21:26] \"POST /asr?task=translate&language=ja&output=json HTTP/1.1\" 200 -\n",
      "INFO:werkzeug:127.0.0.1 - - [15/Sep/2024 12:21:29] \"POST /asr?task=translate&language=ja&output=json HTTP/1.1\" 200 -\n",
      "INFO:werkzeug:127.0.0.1 - - [15/Sep/2024 12:21:32] \"POST /asr?task=translate&language=ja&output=json HTTP/1.1\" 200 -\n",
      "INFO:werkzeug:127.0.0.1 - - [15/Sep/2024 12:21:35] \"POST /asr?task=translate&language=ja&output=json HTTP/1.1\" 200 -\n",
      "INFO:werkzeug:127.0.0.1 - - [15/Sep/2024 12:21:38] \"POST /asr?task=translate&language=ja&output=json HTTP/1.1\" 200 -\n",
      "INFO:werkzeug:127.0.0.1 - - [15/Sep/2024 12:21:41] \"POST /asr?task=translate&language=ja&output=json HTTP/1.1\" 200 -\n",
      "INFO:werkzeug:127.0.0.1 - - [15/Sep/2024 12:21:44] \"POST /asr?task=translate&language=ja&output=json HTTP/1.1\" 200 -\n",
      "INFO:werkzeug:127.0.0.1 - - [15/Sep/2024 12:21:47] \"POST /asr?task=translate&language=ja&output=json HTTP/1.1\" 200 -\n",
      "INFO:werkzeug:127.0.0.1 - - [15/Sep/2024 12:21:50] \"POST /asr?task=translate&language=ja&output=json HTTP/1.1\" 200 -\n",
      "INFO:werkzeug:127.0.0.1 - - [15/Sep/2024 12:21:53] \"POST /asr?task=translate&language=ja&output=json HTTP/1.1\" 200 -\n",
      "INFO:werkzeug:127.0.0.1 - - [15/Sep/2024 12:26:49] \"POST /asr?task=translate&language=ja&output=json HTTP/1.1\" 200 -\n",
      "INFO:werkzeug:127.0.0.1 - - [15/Sep/2024 12:26:51] \"POST /asr?task=translate&language=ja&output=json HTTP/1.1\" 200 -\n",
      "INFO:werkzeug:127.0.0.1 - - [15/Sep/2024 12:26:52] \"\u001B[31m\u001B[1mPOST /asr?task=translate&language=ja&output=json HTTP/1.1\u001B[0m\" 400 -\n",
      "INFO:werkzeug:127.0.0.1 - - [15/Sep/2024 12:27:12] \"POST /asr?task=translate&language=ja&output=json HTTP/1.1\" 200 -\n",
      "INFO:werkzeug:127.0.0.1 - - [15/Sep/2024 12:27:15] \"POST /asr?task=translate&language=ja&output=json HTTP/1.1\" 200 -\n",
      "INFO:werkzeug:127.0.0.1 - - [15/Sep/2024 12:27:16] \"POST /asr?task=translate&language=ja&output=json HTTP/1.1\" 200 -\n"
     ]
    }
   ],
   "source": [
    "app = Flask(__name__)\n",
    "\n",
    "@app.route('/', methods=['GET'])\n",
    "def test():\n",
    "    response = {'status':'OK','message':'Test'}\n",
    "    return json.dumps(response)\n",
    "\n",
    "@app.route('/asr', methods=['POST'])\n",
    "def asr():\n",
    "    task = request.args.get('task')\n",
    "    language = request.args.get('language')\n",
    "    audio_data = request.files['audio_file']\n",
    "\n",
    "    if task == 'transcribe':\n",
    "      audio_data.save(TRANSCRIBE_FILENAME)\n",
    "      result = model.transcribe(TRANSCRIBE_FILENAME)\n",
    "      return json.dumps(result)\n",
    "\n",
    "    elif task == 'translate':\n",
    "      audio_data.save(TRANSLATE_FILENAME)\n",
    "      result = model.transcribe(TRANSLATE_FILENAME, language='ja', task='translate')\n",
    "      return json.dumps(result)\n",
    "\n",
    "    else:\n",
    "      return 'Record not found', 400\n",
    "\n",
    "\n",
    "if __name__ == '__main__':\n",
    "   app.run(port=port)"
   ]
  }
 ],
 "metadata": {
  "accelerator": "GPU",
  "colab": {
   "provenance": []
  },
  "gpuClass": "standard",
  "kernelspec": {
   "display_name": "Python 3",
   "name": "python3"
  },
  "language_info": {
   "name": "python"
  }
 },
 "nbformat": 4,
 "nbformat_minor": 0
}
